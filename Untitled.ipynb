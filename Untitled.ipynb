{
 "cells": [
  {
   "cell_type": "code",
   "execution_count": 1,
   "metadata": {},
   "outputs": [],
   "source": [
    "import urllib.request\n",
    "import zipfile\n",
    "from io import BytesIO\n",
    "\n",
    "DATASET_URL = \"https://s3-eu-west-1.amazonaws.com/kate-datasets/hackernews/HNStories.zip\"\n",
    "DATA_DIR = \"data\"\n",
    "\n",
    "if __name__ == \"__main__\":\n",
    "\n",
    "    req = urllib.request.urlopen(DATASET_URL)\n",
    "    data = BytesIO(req.read())\n",
    "\n",
    "    with zipfile.ZipFile(data, \"r\") as zipref:\n",
    "        zipref.extractall(DATA_DIR)"
   ]
  },
  {
   "cell_type": "code",
   "execution_count": null,
   "metadata": {},
   "outputs": [],
   "source": []
  }
 ],
 "metadata": {
  "kernelspec": {
   "display_name": "Python 3",
   "language": "python",
   "name": "python3"
  },
  "language_info": {
   "codemirror_mode": {
    "name": "ipython",
    "version": 3
   },
   "file_extension": ".py",
   "mimetype": "text/x-python",
   "name": "python",
   "nbconvert_exporter": "python",
   "pygments_lexer": "ipython3",
   "version": "3.7.6"
  }
 },
 "nbformat": 4,
 "nbformat_minor": 2
}
